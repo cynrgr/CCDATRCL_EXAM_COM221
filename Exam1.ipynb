{
  "cells": [
    {
      "cell_type": "markdown",
      "metadata": {
        "id": "view-in-github",
        "colab_type": "text"
      },
      "source": [
        "<a href=\"https://colab.research.google.com/github/cynrgr/CCDATRCL_EXAM_COM221/blob/main/Exam1.ipynb\" target=\"_parent\"><img src=\"https://colab.research.google.com/assets/colab-badge.svg\" alt=\"Open In Colab\"/></a>"
      ]
    },
    {
      "cell_type": "markdown",
      "metadata": {
        "id": "yaz2B0KGFehP"
      },
      "source": [
        "# Midterm Exam 💛💙"
      ]
    },
    {
      "cell_type": "markdown",
      "metadata": {
        "id": "_DmK1ONEFehQ"
      },
      "source": [
        "**Instructions** ❗️❗️\n",
        "\n",
        "❌ Do not remove or modify the notebook **sections**, **subsections**, **exam questions** or **any text** in this python notebook\n",
        "\n",
        "✔️ Put your answer in the designated cells below each question"
      ]
    },
    {
      "cell_type": "markdown",
      "metadata": {
        "id": "TMCAXKWCFehR"
      },
      "source": [
        "## Search"
      ]
    },
    {
      "cell_type": "code",
      "execution_count": 1331,
      "metadata": {
        "id": "Fy8nEBRRFehR"
      },
      "outputs": [],
      "source": [
        "def linearSearch(my_list, number):\n",
        "\n",
        "    index = 0\n",
        "\n",
        "    for i in my_list:\n",
        "\n",
        "        if my_list[index] == number:\n",
        "            return index\n",
        "\n",
        "        index = index + 1\n",
        "\n",
        "    return -1"
      ]
    },
    {
      "cell_type": "markdown",
      "metadata": {
        "id": "AjAevpueFehS"
      },
      "source": [
        "1. Using **linear search**, write a `findLargestIncrease()` function to find the largest increase in value between two adjacent numbers in your student number `(10 points)`\n",
        "\n",
        "    **Example:**\n",
        "\n",
        "    student_number = [2,0,2,2,6,2,5,1,9,3]\n",
        "\n",
        "    **Expected Output:**\n",
        "\n",
        "    findLargestIncrease(student_number)\n",
        "\n",
        "    Output: Between 1 and 9\n",
        "\n",
        "    **Explanation:**\n",
        "\n",
        "    From this student_number, the largest increase happened from number 1 to number 9"
      ]
    },
    {
      "cell_type": "code",
      "execution_count": 1332,
      "metadata": {
        "id": "JE8nEfyJFehS"
      },
      "outputs": [],
      "source": [
        "# put your answer here\n",
        "def findLargestIncrease(list):\n",
        "  largest_increase = 0\n",
        "  first = 0\n",
        "  last = 0\n",
        "\n",
        "  for i in range(len(list)- 1):\n",
        "    increase = list[i + 1] - list[i]\n",
        "    if increase > largest_increase:\n",
        "      largest_increase = increase\n",
        "      first = list[i]\n",
        "      last = list[i + 1]\n",
        "\n",
        "  print(\"Largest increase: Between\", first, \"and\", last)"
      ]
    },
    {
      "cell_type": "code",
      "source": [
        "student_number = [2,0,2,2,1,0,3,3,2,4]\n",
        "\n",
        "findLargestIncrease(student_number)"
      ],
      "metadata": {
        "colab": {
          "base_uri": "https://localhost:8080/"
        },
        "id": "k_3ZCtoG0Tdz",
        "outputId": "c96db32c-d139-4f47-cc86-6006446cdadb"
      },
      "execution_count": 1333,
      "outputs": [
        {
          "output_type": "stream",
          "name": "stdout",
          "text": [
            "Largest increase: Between 0 and 3\n"
          ]
        }
      ]
    },
    {
      "cell_type": "markdown",
      "metadata": {
        "id": "nMyr1fNyFehS"
      },
      "source": [
        "2. Using **linear search**, write a `findLargestDecrease()` function to find the largest decrease in value between two adjacent numbers in your student number `(10 points)`\n",
        "\n",
        "    **Example:**\n",
        "\n",
        "    student_number = [2,0,2,2,6,2,5,1,9,3]\n",
        "\n",
        "    **Expected Output:**\n",
        "\n",
        "    findLargestDecrease(student_number)\n",
        "\n",
        "    Output: Between 9 and 3\n",
        "\n",
        "    **Explanation:**\n",
        "\n",
        "    From this student_number, the largest decrease happened from number 9 to number 3"
      ]
    },
    {
      "cell_type": "code",
      "execution_count": 1334,
      "metadata": {
        "id": "bfMfQVbVFehS"
      },
      "outputs": [],
      "source": [
        "# put your answer here\n",
        "def findLargestDecrease(list):\n",
        "  largest_decrease = 0\n",
        "  first = 0\n",
        "  last = 0\n",
        "\n",
        "  for i in range(len(list)- 1):\n",
        "    decrease = list[i] - list[i + 1]\n",
        "    if decrease > largest_decrease:\n",
        "      largest_decrease = decrease\n",
        "      first = list[i]\n",
        "      last = list[i + 1]\n",
        "\n",
        "  print(\"Largest decrease: Between\", first, \"and\", last)"
      ]
    },
    {
      "cell_type": "code",
      "source": [
        "student_number = [2,0,2,2,1,0,3,3,2,4]\n",
        "\n",
        "findLargestDecrease(student_number)"
      ],
      "metadata": {
        "colab": {
          "base_uri": "https://localhost:8080/"
        },
        "id": "MDsUhjdR6btj",
        "outputId": "fa5456a7-3d8c-4b22-d51d-9a34e907e886"
      },
      "execution_count": 1335,
      "outputs": [
        {
          "output_type": "stream",
          "name": "stdout",
          "text": [
            "Largest decrease: Between 2 and 0\n"
          ]
        }
      ]
    },
    {
      "cell_type": "markdown",
      "metadata": {
        "id": "NtKSQn9QFehS"
      },
      "source": [
        "## Linked List"
      ]
    },
    {
      "cell_type": "code",
      "execution_count": 1336,
      "metadata": {
        "id": "0HP5zyJcFehS"
      },
      "outputs": [],
      "source": [
        "class Node:\n",
        "\n",
        "    def __init__(self, data):\n",
        "        self.data = data\n",
        "        self.next = None  # null"
      ]
    },
    {
      "cell_type": "code",
      "execution_count": 1337,
      "metadata": {
        "id": "A-8Uefe7FehS"
      },
      "outputs": [],
      "source": [
        "class LinkedList:\n",
        "\n",
        "    def __init__(self):\n",
        "        self.head = None\n",
        "\n",
        "    def traverse(self, node):\n",
        "        while node:\n",
        "            print(node.data, end=\" -> \")\n",
        "            node = node.next"
      ]
    },
    {
      "cell_type": "markdown",
      "metadata": {
        "id": "uPgIJJuSFehT"
      },
      "source": [
        "**Instructions** ❗️❗️\n",
        "\n",
        "Use the pre-defined linked list class/functions to create a linked list"
      ]
    },
    {
      "cell_type": "markdown",
      "metadata": {
        "id": "WIwpW7Q2FehT"
      },
      "source": [
        "1. Create a Singly linked list named **num_list** and print all of its elements. `(5 points)`\n",
        "\n",
        "- **num_list** should contain all digits of your student number.\n",
        "\n",
        "    **Expected Output:**\n",
        "\n",
        "    print(num_list)\n",
        "\n",
        "    [2, 0, 2, 2, 1, 2, 3, 4, 5, 6]"
      ]
    },
    {
      "cell_type": "code",
      "execution_count": 1338,
      "metadata": {
        "id": "Lihv0JPiFehT",
        "colab": {
          "base_uri": "https://localhost:8080/"
        },
        "outputId": "ab486da7-1a44-4419-f184-98d8a76fa05e"
      },
      "outputs": [
        {
          "output_type": "stream",
          "name": "stdout",
          "text": [
            "2 -> 0 -> 2 -> 2 -> 1 -> 0 -> 3 -> 3 -> 2 -> 4 -> "
          ]
        }
      ],
      "source": [
        "# put your answer here\n",
        "num_list = LinkedList()\n",
        "\n",
        "num_list.head = Node(2)\n",
        "node_b = Node(0)\n",
        "node_c = Node(2)\n",
        "node_d = Node(2)\n",
        "node_e = Node(1)\n",
        "node_f = Node(0)\n",
        "node_g = Node(3)\n",
        "node_h = Node(3)\n",
        "node_i = Node(2)\n",
        "node_j = Node(4)\n",
        "\n",
        "num_list.head.next = node_b\n",
        "node_b.next = node_c\n",
        "node_c.next = node_d\n",
        "node_d.next = node_e\n",
        "node_e.next = node_f\n",
        "node_f.next = node_g\n",
        "node_g.next = node_h\n",
        "node_h.next = node_i\n",
        "node_i.next = node_j\n",
        "\n",
        "num_list.traverse(num_list.head)"
      ]
    },
    {
      "cell_type": "markdown",
      "metadata": {
        "id": "dqA2UYrYFehT"
      },
      "source": [
        "2. Write a `hasPrime()` function to test whether a prime number is in the last six digits of **num_list**. `(5 points)`\n",
        "\n",
        "- If a prime number is in the last six digits of **num_list**, the method should return **true**\n",
        "\n",
        "- If a prime number is not in the last six digits of **num_list**, the method should return **false**\n",
        "\n",
        "    **Expected Output:**\n",
        "\n",
        "    hasPrime(num_list)\n",
        "\n",
        "    True"
      ]
    },
    {
      "cell_type": "code",
      "execution_count": 1339,
      "metadata": {
        "id": "GYwsQNz5FehT",
        "colab": {
          "base_uri": "https://localhost:8080/"
        },
        "outputId": "4b150348-d4fc-49a6-beb6-8db2888eb9d8"
      },
      "outputs": [
        {
          "output_type": "stream",
          "name": "stdout",
          "text": [
            "True\n"
          ]
        }
      ],
      "source": [
        "# put your answer here\n",
        "def isprime(num):\n",
        "  if num <= 1:\n",
        "    return False\n",
        "  if num <= 3:\n",
        "    return True\n",
        "  if num % 2 == 0 or num % 3 == 0:\n",
        "    return False\n",
        "  i = 5\n",
        "  while i * i <= num:\n",
        "    if num % i == 0 or num % (i + 2) == 0:\n",
        "      return False\n",
        "    i += 6\n",
        "  return True\n",
        "\n",
        "def hasPrime(num_list):\n",
        "  latest_node = num_list.head\n",
        "  last_six_digits = []\n",
        "\n",
        "  while len(last_six_digits) < 6 and latest_node:\n",
        "    last_six_digits.append(latest_node.data)\n",
        "    latest_node = latest_node.next\n",
        "\n",
        "  for digit in reversed(last_six_digits):\n",
        "    if isprime(digit):\n",
        "        return True\n",
        "  return False\n",
        "\n",
        "result = hasPrime(num_list)\n",
        "print(result)"
      ]
    },
    {
      "cell_type": "markdown",
      "metadata": {
        "id": "5Qb0BOiwFehT"
      },
      "source": [
        "3. Write a `removeZeroes()` function to remove all occurrences of zeroes in **num_list**. `(5 points)`\n",
        "\n",
        "- If a zero is in **num_list**, return **num_list**\n",
        "\n",
        "- If there are no zeroes in **num_list**, return **\"no zeros found\"**\n",
        "\n",
        "    **Expected Output:**\n",
        "\n",
        "    removeZeroes(num_list)\n",
        "\n",
        "    [2, 2, 1, 2, 3, 4, 5, 6]"
      ]
    },
    {
      "cell_type": "code",
      "execution_count": 1340,
      "metadata": {
        "id": "k1vAHUYuFehT",
        "colab": {
          "base_uri": "https://localhost:8080/"
        },
        "outputId": "1ccb22a4-0bcf-47f7-e318-93d48fc5a043"
      },
      "outputs": [
        {
          "output_type": "stream",
          "name": "stdout",
          "text": [
            "[2, 2, 2, 1, 3, 3, 2, 4]\n"
          ]
        }
      ],
      "source": [
        "# put your answer here\n",
        "def removeZeroes(num_list):\n",
        "  latest_node = num_list.head\n",
        "  prev_node = None\n",
        "\n",
        "  while latest_node:\n",
        "    if latest_node.data == 0:\n",
        "      if prev_node is None:\n",
        "        num_list.head = latest_node.next\n",
        "      else:\n",
        "        prev_node.next = latest_node.next\n",
        "    else:\n",
        "      prev_node = latest_node\n",
        "    latest_node = latest_node.next\n",
        "\n",
        "  if num_list.head is None:\n",
        "    return \"no zeros found\"\n",
        "  else:\n",
        "    result = []\n",
        "    latest_node = num_list.head\n",
        "    while latest_node:\n",
        "      result.append(latest_node.data)\n",
        "      latest_node = latest_node.next\n",
        "    return result\n",
        "\n",
        "result = removeZeroes(num_list)\n",
        "print(result)"
      ]
    },
    {
      "cell_type": "markdown",
      "metadata": {
        "id": "SKAlpglNFehT"
      },
      "source": [
        "4. Insert a dash symbol between the 4th and 5th digit in **num_list**. `(5 points)`\n",
        "\n",
        "    **Expected Output:**\n",
        "\n",
        "    print(num_list)\n",
        "\n",
        "    [2, 0, 2, 2, \"-\", 1, 2, 3, 4, 5, 6]"
      ]
    },
    {
      "cell_type": "code",
      "execution_count": 1341,
      "metadata": {
        "id": "vF7fimZ-FehT",
        "colab": {
          "base_uri": "https://localhost:8080/"
        },
        "outputId": "28b3e336-2bf4-45e1-ae6d-77d34f097355"
      },
      "outputs": [
        {
          "output_type": "stream",
          "name": "stdout",
          "text": [
            "2 -> 0 -> 2 -> 2 -> - -> 1 -> 0 -> 3 -> 3 -> 2 -> 4 -> "
          ]
        }
      ],
      "source": [
        "# put your answer here\n",
        "num_list = LinkedList()\n",
        "\n",
        "num_list.head = Node(2)\n",
        "node_b = Node(0)\n",
        "node_c = Node(2)\n",
        "node_d = Node(2)\n",
        "node_e = Node(1)\n",
        "node_f = Node(0)\n",
        "node_g = Node(3)\n",
        "node_h = Node(3)\n",
        "node_i = Node(2)\n",
        "node_j = Node(4)\n",
        "\n",
        "num_list.head.next = node_b\n",
        "node_b.next = node_c\n",
        "node_c.next = node_d\n",
        "node_d.next = node_e\n",
        "node_e.next = node_f\n",
        "node_f.next = node_g\n",
        "node_g.next = node_h\n",
        "node_h.next = node_i\n",
        "node_i.next = node_j\n",
        "\n",
        "def insertDash(num_list):\n",
        "  latest_node = num_list.head\n",
        "  count = 1\n",
        "\n",
        "  while latest_node:\n",
        "    if count == 4:\n",
        "      newNode = Node(\"-\")\n",
        "      newNode.next = latest_node.next\n",
        "      latest_node.next = newNode\n",
        "      break\n",
        "    latest_node = latest_node.next\n",
        "    count += 1\n",
        "\n",
        "insertDash(num_list)\n",
        "num_list.traverse(num_list.head)"
      ]
    },
    {
      "cell_type": "markdown",
      "metadata": {
        "id": "KkC-LgdxFehT"
      },
      "source": [
        "## Stack"
      ]
    },
    {
      "cell_type": "code",
      "execution_count": 1342,
      "metadata": {
        "id": "UYTqB1u_FehU"
      },
      "outputs": [],
      "source": [
        "# Creating a stack\n",
        "def create_stack():\n",
        "    stack = []\n",
        "    return stack\n",
        "\n",
        "\n",
        "def print_stack(stack):\n",
        "\n",
        "    if (check_empty(stack)):\n",
        "        return \"stack is empty\"\n",
        "\n",
        "    # Create a copy of the stack and reverse the elements\n",
        "    tempStack = stack.copy()\n",
        "    tempStack.reverse()\n",
        "\n",
        "    # Print all elements using a loop\n",
        "    for i in tempStack:\n",
        "        print(i)\n",
        "\n",
        "    # Delete the copy to free up memory\n",
        "    del tempStack\n",
        "\n",
        "# Creating an empty stack\n",
        "\n",
        "\n",
        "def check_empty(stack):\n",
        "    return len(stack) == 0\n",
        "\n",
        "\n",
        "# Adding items into the stack\n",
        "def push(stack, item):\n",
        "    stack.append(item)\n",
        "    print(\"pushed item: \" + item)\n",
        "\n",
        "\n",
        "# Removing an element from the stack\n",
        "def pop(stack):\n",
        "    if (check_empty(stack)):\n",
        "        return \"stack is empty\"\n",
        "\n",
        "    return stack.pop()\n",
        "\n",
        "\n",
        "def peek(stack):\n",
        "\n",
        "    # Use negative indexing to display the last element of the list\n",
        "    print(stack[-1])"
      ]
    },
    {
      "cell_type": "markdown",
      "metadata": {
        "id": "wLAQchs8FehU"
      },
      "source": [
        "**Instructions** ❗️❗️\n",
        "\n",
        "Use the pre-defined stack class/functions to create a stack"
      ]
    },
    {
      "cell_type": "markdown",
      "metadata": {
        "id": "37cg9BoCFehU"
      },
      "source": [
        "1. Create two (2) stacks named **name_stack** and **num_stack** `(5 points)`\n",
        "\n",
        "- **name_stack** should contain all letters of your first name.\n",
        "- **num_stack** should contain all digits of your student number.\n",
        "\n",
        "    **Expected Output:**\n",
        "\n",
        "    print(name_stack)\n",
        "\n",
        "    ['E', 'L', 'I', 'Z', 'E', 'R']\n",
        "\n",
        "    print(num_stack)\n",
        "\n",
        "    [2,0,2,2,1,2,3,4,5,6]"
      ]
    },
    {
      "cell_type": "code",
      "execution_count": 1343,
      "metadata": {
        "id": "HlUIUQzQFehU",
        "colab": {
          "base_uri": "https://localhost:8080/"
        },
        "outputId": "50431057-9c45-4252-bf81-762147616d3f"
      },
      "outputs": [
        {
          "output_type": "stream",
          "name": "stdout",
          "text": [
            "pushed item: F\n",
            "pushed item: R\n",
            "pushed item: A\n",
            "pushed item: N\n",
            "pushed item: C\n",
            "pushed item: Y\n",
            "pushed item: N\n",
            "pushed item: E\n",
            "pushed item: 2\n",
            "pushed item: 0\n",
            "pushed item: 2\n",
            "pushed item: 2\n",
            "pushed item: 1\n",
            "pushed item: 0\n",
            "pushed item: 3\n",
            "pushed item: 3\n",
            "pushed item: 2\n",
            "pushed item: 4\n",
            "\n",
            "['F', 'R', 'A', 'N', 'C', 'Y', 'N', 'E']\n",
            "['2', '0', '2', '2', '1', '0', '3', '3', '2', '4']\n"
          ]
        }
      ],
      "source": [
        "# put your answer here\n",
        "name_stack = create_stack()\n",
        "num_stack = create_stack()\n",
        "first_name = \"FRANCYNE\"\n",
        "\n",
        "for i in first_name:\n",
        "  push(name_stack, i)\n",
        "\n",
        "IDnum = [2,0,2,2,1,0,3,3,2,4]\n",
        "\n",
        "for num in range(len(IDnum)):\n",
        "  push(num_stack, str(IDnum[num]))\n",
        "\n",
        "print(\"\")\n",
        "print(name_stack)\n",
        "print(num_stack)"
      ]
    },
    {
      "cell_type": "markdown",
      "metadata": {
        "id": "8cySe9LXFehU"
      },
      "source": [
        "2. Create a stack named **my_stack** that follows the following format: `(5 points)`\n",
        "\n",
        "- The first element should be the **5th digit in your student number**\n",
        "- The succeeding elements should be the letters of your **first name**\n",
        "- The last element should be the **last digit of your student number**\n",
        "\n",
        "    **Expected Output:**\n",
        "\n",
        "    my_stack = [1, E, L, I, Z, E, R, 6]"
      ]
    },
    {
      "cell_type": "code",
      "execution_count": 1344,
      "metadata": {
        "id": "bEnCoAhjFehU",
        "colab": {
          "base_uri": "https://localhost:8080/"
        },
        "outputId": "ad2b4618-df43-4353-991a-98c12358d065"
      },
      "outputs": [
        {
          "output_type": "stream",
          "name": "stdout",
          "text": [
            "pushed item: 1\n",
            "pushed item: F\n",
            "pushed item: R\n",
            "pushed item: A\n",
            "pushed item: N\n",
            "pushed item: C\n",
            "pushed item: Y\n",
            "pushed item: N\n",
            "pushed item: E\n",
            "pushed item: 4\n",
            "\n",
            "my_stack =  ['1', 'F', 'R', 'A', 'N', 'C', 'Y', 'N', 'E', '4']\n"
          ]
        }
      ],
      "source": [
        "# put your answer here\n",
        "my_stack = create_stack()\n",
        "\n",
        "push(my_stack, str(IDnum[4]))\n",
        "for i in first_name:\n",
        "  push(my_stack, i)\n",
        "push(my_stack, str(IDnum[9]))\n",
        "\n",
        "print(\"\")\n",
        "print(\"my_stack = \", my_stack)"
      ]
    },
    {
      "cell_type": "markdown",
      "metadata": {
        "id": "8a8_KP5nFehU"
      },
      "source": [
        "3. Write a `verifyStack()` function that will take in `my_stack` and check if its format has been followed `(10 points)`\n",
        "\n",
        "- Return **True** if the format has been followed\n",
        "- Return **False** if the format was not followed\n",
        "- Verify the format by checking the contents of **my_stack** with **name_stack** and **num_stack**\n",
        "\n",
        "    **Expected Output:**\n",
        "\n",
        "    my_stack = [1, E, L, I, Z, E, R, 6]\n",
        "\n",
        "    verifyStack(my_stack)\n",
        "\n",
        "    True\n",
        "\n",
        "    my_stack = [1, S, L, I, Z, E, R, 7]\n",
        "\n",
        "    verifyStack(my_stack)\n",
        "\n",
        "    False"
      ]
    },
    {
      "cell_type": "code",
      "execution_count": 1345,
      "metadata": {
        "id": "RdANSxD0FehU",
        "colab": {
          "base_uri": "https://localhost:8080/"
        },
        "outputId": "cb04618a-060a-46f3-e6d0-14bdc05af9f0"
      },
      "outputs": [
        {
          "output_type": "stream",
          "name": "stdout",
          "text": [
            "[1, 'F', 'R', 'A', 'N', 'C', 'Y', 'N', 'E', 4]\n",
            "True\n",
            "[1, 'E', 'N', 'Y', 'C', 'N', 'A', 'R', 'F', 7]\n",
            "False\n"
          ]
        }
      ],
      "source": [
        "# put your answer here\n",
        "def verifyStack(my_stack):\n",
        "\n",
        "  lastDigit = int(my_stack[-1])\n",
        "\n",
        "  letters = my_stack[1:-1]\n",
        "\n",
        "  return lastDigit == 4 and letters == name_stack\n",
        "\n",
        "my_stack1 =  [1, 'F', 'R', 'A', 'N', 'C', 'Y', 'N', 'E', 4]\n",
        "print(my_stack1)\n",
        "print(verifyStack(my_stack1))\n",
        "\n",
        "my_stack2 = [1, 'E', 'N', 'Y', 'C', 'N', 'A', 'R', 'F', 7]\n",
        "print(my_stack2)\n",
        "print(verifyStack(my_stack2))"
      ]
    },
    {
      "cell_type": "markdown",
      "metadata": {
        "id": "UC5C64B2FehU"
      },
      "source": [
        "## Queue"
      ]
    },
    {
      "cell_type": "code",
      "execution_count": 1346,
      "metadata": {
        "id": "NJJ0j0LHFehU"
      },
      "outputs": [],
      "source": [
        "class Queue:\n",
        "    def __init__(self):\n",
        "        self.queue = []\n",
        "\n",
        "    # Add an element\n",
        "    def enqueue(self, item):\n",
        "        self.queue.append(item)\n",
        "\n",
        "    # Remove an element\n",
        "    def dequeue(self):\n",
        "        if len(self.queue) < 1:\n",
        "            return None\n",
        "        return self.queue.pop(0)\n",
        "\n",
        "    # Display  the queue\n",
        "    def display(self):\n",
        "        print(self.queue)\n",
        "\n",
        "    def size(self):\n",
        "        return len(self.queue)\n",
        "\n",
        "    def peek(self):\n",
        "        return self.queue[0]"
      ]
    },
    {
      "cell_type": "markdown",
      "metadata": {
        "id": "80OekpbeFehV"
      },
      "source": [
        "**Instructions** ❗️❗️\n",
        "\n",
        "Use the pre-defined queue class/functions to create a Queue"
      ]
    },
    {
      "cell_type": "markdown",
      "metadata": {
        "id": "_Hf0OP5cFehV"
      },
      "source": [
        "1. Create a simple queue named **num_queue** `(5 points)`\n",
        "\n",
        "- **num_queue** should contain all digits of your student number.\n",
        "\n",
        "    **Expected Output:**\n",
        "\n",
        "    print(num_queue)\n",
        "\n",
        "    [2,0,2,2,1,2,3,4,5,6]"
      ]
    },
    {
      "cell_type": "code",
      "execution_count": 1347,
      "metadata": {
        "id": "_mgmE4ArFehV",
        "colab": {
          "base_uri": "https://localhost:8080/"
        },
        "outputId": "8ea626bb-ad54-4942-9f0b-ea68d6b3c37e"
      },
      "outputs": [
        {
          "output_type": "stream",
          "name": "stdout",
          "text": [
            "[2, 0, 2, 2, 1, 0, 3, 3, 2, 4]\n"
          ]
        }
      ],
      "source": [
        "# put your answer here\n",
        "num_queue = Queue()\n",
        "\n",
        "num_queue.enqueue(2)\n",
        "num_queue.enqueue(0)\n",
        "num_queue.enqueue(2)\n",
        "num_queue.enqueue(2)\n",
        "num_queue.enqueue(1)\n",
        "num_queue.enqueue(0)\n",
        "num_queue.enqueue(3)\n",
        "num_queue.enqueue(3)\n",
        "num_queue.enqueue(2)\n",
        "num_queue.enqueue(4)\n",
        "\n",
        "num_queue.display()"
      ]
    },
    {
      "cell_type": "markdown",
      "metadata": {
        "id": "1pHG8t6DFehV"
      },
      "source": [
        "2. Write a `getMax()` or `getMin()` function for **num_queue** `(5 points)`\n",
        "\n",
        "- If your student number ends with an odd number, create a `getMax()` function that will return the largest number in **num_queue**\n",
        "- If your student number ends with an even number, create a `getMin()` function that will return the lowest number in **num_queue**\n",
        "\n",
        "    **Expected Output for getMax():**\n",
        "\n",
        "    getMax(num_queue)\n",
        "\n",
        "    6\n",
        "\n",
        "    **Expected Output for getMin():**\n",
        "\n",
        "    getMin(num_queue)\n",
        "\n",
        "    0"
      ]
    },
    {
      "cell_type": "code",
      "execution_count": 1348,
      "metadata": {
        "id": "itj2U610FehV",
        "colab": {
          "base_uri": "https://localhost:8080/"
        },
        "outputId": "7181e8a4-5f77-414d-aac1-3dd284db5df6"
      },
      "outputs": [
        {
          "output_type": "stream",
          "name": "stdout",
          "text": [
            "0\n"
          ]
        }
      ],
      "source": [
        "# put your answer here\n",
        "def getMax(num_queue):\n",
        "    maxVal = float('-inf')\n",
        "    while num_queue.queue:\n",
        "      item = num_queue.dequeue()\n",
        "      maxVal = max(maxVal, item)\n",
        "    return maxVal\n",
        "\n",
        "def getMin(num_queue):\n",
        "    minVal = float('inf')\n",
        "    while num_queue.queue:\n",
        "      item = num_queue.dequeue()\n",
        "      minVal = min(minVal, item)\n",
        "    return minVal\n",
        "\n",
        "num_queue = Queue()\n",
        "IDnum = \"2022103324\"\n",
        "for i in IDnum:\n",
        "  num_queue.enqueue(int(i))\n",
        "\n",
        "last_digit = int(student_number[-1])\n",
        "\n",
        "if last_digit % 2 == 1:\n",
        "  result = getMax(num_queue)\n",
        "  print(result)\n",
        "else:\n",
        "  result = getMin(num_queue)\n",
        "  print(result)"
      ]
    },
    {
      "cell_type": "markdown",
      "metadata": {
        "id": "YkgmP6GwFehV"
      },
      "source": [
        "3. Write a `getOdd()` or `getEven()` function for  **num_queue** `(5 points)`\n",
        "\n",
        "- If your student number ends with an **odd number**, create a `getOdd()` function that will return all odd numbers in **num_queue**\n",
        "- If your student number ends with an **even number**, create a `getEven()` function that will return all even numbers in **num_queue**\n",
        "\n",
        "    **Expected Output for getOdd():**\n",
        "\n",
        "    getOdd(num_queue)\n",
        "\n",
        "    [1, 3, 5]\n",
        "\n",
        "    **Expected Output for getEven():**\n",
        "\n",
        "    getEven(num_queue)\n",
        "\n",
        "    [0, 2, 4, 6]"
      ]
    },
    {
      "cell_type": "code",
      "execution_count": 1349,
      "metadata": {
        "id": "2Bc7E1zNFehV",
        "colab": {
          "base_uri": "https://localhost:8080/"
        },
        "outputId": "02126d00-d855-4d32-f6d6-f5410d365a17"
      },
      "outputs": [
        {
          "output_type": "stream",
          "name": "stdout",
          "text": [
            "[2, 0, 2, 2, 0, 2, 4]\n"
          ]
        }
      ],
      "source": [
        "# put your answer here\n",
        "def getOdd(num_queue):\n",
        "  oddNum = []\n",
        "  for i in num_queue.queue:\n",
        "    if i % 2 == 1:\n",
        "      oddNum.append(i)\n",
        "  return oddNum\n",
        "\n",
        "def getEven(num_queue):\n",
        "  evenNum = []\n",
        "  for i in num_queue.queue:\n",
        "    if i % 2 == 0:\n",
        "      evenNum.append(i)\n",
        "  return evenNum\n",
        "\n",
        "num_queue = Queue()\n",
        "IDnum = \"2022103324\"\n",
        "for i in IDnum:\n",
        "  num_queue.enqueue(int(i))\n",
        "\n",
        "last_digit = int(student_number[-1])\n",
        "\n",
        "if last_digit % 2 == 1:\n",
        "  result = getOdd(num_queue)\n",
        "  print(result)\n",
        "else:\n",
        "  result = getEven(num_queue)\n",
        "  print(result)"
      ]
    },
    {
      "cell_type": "markdown",
      "metadata": {
        "id": "kuzWF5g4FehV"
      },
      "source": [
        "4. Write a `removeDup()` function that will remove all duplicates in **num_queue** `(5 points)`\n",
        "\n",
        "    **Expected Output:**\n",
        "\n",
        "    removeDup(num_queue)\n",
        "\n",
        "    [2,0,1,3,4,5,6]"
      ]
    },
    {
      "cell_type": "code",
      "execution_count": 1350,
      "metadata": {
        "id": "I8LeQP8MFehY",
        "colab": {
          "base_uri": "https://localhost:8080/"
        },
        "outputId": "c3923422-6c19-4c5d-de37-fb3a7aa01aaf"
      },
      "outputs": [
        {
          "output_type": "stream",
          "name": "stdout",
          "text": [
            "[2, 0, 1, 3, 4]\n",
            "None\n"
          ]
        }
      ],
      "source": [
        "# put your answer here\n",
        "def removeDup(num_queue):\n",
        "    singleNum = set()\n",
        "    newQueue = Queue()\n",
        "\n",
        "    while num_queue.size() > 0:\n",
        "      val = num_queue.dequeue()\n",
        "\n",
        "      if val not in singleNum:\n",
        "        singleNum.add(val)\n",
        "        newQueue.enqueue(val)\n",
        "    return newQueue\n",
        "\n",
        "num_queue = removeDup(num_queue)\n",
        "\n",
        "print(num_queue.display())"
      ]
    },
    {
      "cell_type": "markdown",
      "metadata": {
        "id": "LVfZTh8YFehZ"
      },
      "source": [
        "## Sort"
      ]
    },
    {
      "cell_type": "markdown",
      "metadata": {
        "id": "bm9lonfzFehZ"
      },
      "source": [
        "**Instructions** ❗️❗️\n",
        "\n",
        "Use the any sorting algoritms"
      ]
    },
    {
      "cell_type": "markdown",
      "metadata": {
        "id": "EJTlxhEdFehZ"
      },
      "source": [
        "1. Using any sorting algorithm, sort the **last 6 digits** of your student number in ascending order `(5 points)`\n",
        "\n",
        "    **Example:**\n",
        "\n",
        "    student_number = [2,0,2,2,6,2,5,1,3,4]\n",
        "\n",
        "    **Expected Output:**\n",
        "\n",
        "    print(student_number)\n",
        "\n",
        "    [2,0,2,2,1,2,3,4,5,6]\n"
      ]
    },
    {
      "cell_type": "code",
      "execution_count": 1351,
      "metadata": {
        "id": "MkZKfveOFehZ",
        "colab": {
          "base_uri": "https://localhost:8080/"
        },
        "outputId": "8b72eb8c-6d7a-4c44-cadb-1e85e5796d8d"
      },
      "outputs": [
        {
          "output_type": "stream",
          "name": "stdout",
          "text": [
            "[2, 0, 2, 2, 0, 1, 2, 3, 3, 4]\n"
          ]
        }
      ],
      "source": [
        "# put your answer here\n",
        "IDnum = [2,0,2,2,1,0,3,3,2,4]\n",
        "\n",
        "first4num = IDnum[:4]\n",
        "last6num = IDnum[4:]\n",
        "\n",
        "for k in range(len(last6num) - 1):\n",
        "  for j in range(0, len(last6num) - k - 1):\n",
        "    if last6num[j] > last6num[j + 1]:\n",
        "      last6num[j], last6num[j + 1] = last6num[j + 1], last6num[j]\n",
        "\n",
        "sorted_IDnum = first4num + last6num\n",
        "IDnum[:] = sorted_IDnum\n",
        "\n",
        "print(IDnum)"
      ]
    },
    {
      "cell_type": "markdown",
      "metadata": {
        "id": "sC2JZRZMFehZ"
      },
      "source": [
        "2. Using your student_number, separately sort the even numbers in **increasing order** and the odd numbers in **decreasing order** `(15 points)`\n",
        "\n",
        "    **Example:**\n",
        "\n",
        "    student_number = [2,0,2,2,1,2,3,4,5,6]\n",
        "\n",
        "    **Expected Output:**\n",
        "\n",
        "    print(student_number)\n",
        "\n",
        "    [0,2,2,2,2,4,6,5,3,1]"
      ]
    },
    {
      "cell_type": "code",
      "execution_count": 1352,
      "metadata": {
        "id": "hWOh_ohcFehZ",
        "colab": {
          "base_uri": "https://localhost:8080/"
        },
        "outputId": "ad9fc9a0-081f-41b0-874c-60ea17a93fd5"
      },
      "outputs": [
        {
          "output_type": "stream",
          "name": "stdout",
          "text": [
            "[0, 0, 2, 2, 2, 2, 4, 1, 3, 3]\n"
          ]
        }
      ],
      "source": [
        "# put your answer here\n",
        "evenNum = []\n",
        "oddNum = []\n",
        "\n",
        "for val in IDnum:\n",
        "  if val % 2 == 0:\n",
        "    evenNum.append(val)\n",
        "  else:\n",
        "    oddNum.append(val)\n",
        "\n",
        "i = len(evenNum)\n",
        "for k in range(i -1):\n",
        "  for j in range(0, i - k - 1):\n",
        "    if evenNum[j] > evenNum[j + 1]:\n",
        "      evenNum[j], evenNum[j + 1] = evenNum[j + 1], evenNum[j]\n",
        "\n",
        "i = len(oddNum)\n",
        "for k in range(i -1):\n",
        "  for j in range(0, i - k - 1):\n",
        "    if oddNum[j] > oddNum[j + 1]:\n",
        "      oddNum[j], oddNum[j + 1] = oddNum[j + 1], oddNum[j]\n",
        "\n",
        "sorted_IDnum = evenNum + oddNum\n",
        "IDnum[:] = sorted_IDnum\n",
        "print(IDnum)"
      ]
    }
  ],
  "metadata": {
    "kernelspec": {
      "display_name": "Python 3",
      "language": "python",
      "name": "python3"
    },
    "language_info": {
      "codemirror_mode": {
        "name": "ipython",
        "version": 3
      },
      "file_extension": ".py",
      "mimetype": "text/x-python",
      "name": "python",
      "nbconvert_exporter": "python",
      "pygments_lexer": "ipython3",
      "version": "3.9.13"
    },
    "orig_nbformat": 4,
    "colab": {
      "provenance": [],
      "include_colab_link": true
    }
  },
  "nbformat": 4,
  "nbformat_minor": 0
}